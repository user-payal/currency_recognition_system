{
 "cells": [
  {
   "cell_type": "code",
   "execution_count": 10,
   "metadata": {},
   "outputs": [],
   "source": [
    "import cv2\n",
    "import numpy as np\n",
    "from sklearn.model_selection import train_test_split\n",
    "from tensorflow.keras.models import Sequential\n",
    "from tensorflow.keras.layers import Conv2D, MaxPooling2D, Flatten, Dense, Dropout\n",
    "from tensorflow.keras.utils import to_categorical\n",
    "import os\n",
    "import glob"
   ]
  },
  {
   "cell_type": "code",
   "execution_count": 11,
   "metadata": {},
   "outputs": [],
   "source": [
    "def preprocess_image(image):\n",
    "    resized_image = cv2.resize(image, (128, 128), interpolation=cv2.INTER_AREA)\n",
    "    normalized_image = resized_image / 255.0\n",
    "    return normalized_image"
   ]
  },
  {
   "cell_type": "code",
   "execution_count": 12,
   "metadata": {},
   "outputs": [],
   "source": [
    "def build_cnn(input_shape):\n",
    "    model = Sequential()\n",
    "    model.add(Conv2D(32, (3, 3), activation='relu', input_shape=input_shape))\n",
    "    model.add(MaxPooling2D((2, 2)))\n",
    "    model.add(Conv2D(64, (3, 3), activation='relu'))\n",
    "    model.add(MaxPooling2D((2, 2)))\n",
    "    model.add(Flatten())\n",
    "    model.add(Dense(64, activation='relu'))\n",
    "    model.add(Dropout(0.5))\n",
    "    model.add(Dense(len(labels), activation='softmax'))\n",
    "    model.compile(optimizer='adam', loss='categorical_crossentropy', metrics=['accuracy'])\n",
    "    return model"
   ]
  },
  {
   "cell_type": "code",
   "execution_count": 13,
   "metadata": {},
   "outputs": [],
   "source": [
    "dataset_path = 'Dataset'\n",
    "labels = ['50', '100', '200', '500']\n",
    "data = []\n",
    "labels_data = []\n",
    "\n",
    "for label in labels:\n",
    "    images_path = glob.glob(os.path.join(dataset_path, label, '*.jpg'))\n",
    "    for image_path in images_path:\n",
    "        image = cv2.imread(image_path, cv2.IMREAD_GRAYSCALE)\n",
    "        image = preprocess_image(image)\n",
    "        data.append(image)\n",
    "        labels_data.append(label)"
   ]
  },
  {
   "cell_type": "code",
   "execution_count": 8,
   "metadata": {},
   "outputs": [
    {
     "name": "stdout",
     "output_type": "stream",
     "text": [
      "Epoch 1/10\n",
      "9/9 [==============================] - 3s 239ms/step - loss: 1.4295 - accuracy: 0.2982 - val_loss: 1.3806 - val_accuracy: 0.3229\n",
      "Epoch 2/10\n",
      "9/9 [==============================] - 2s 193ms/step - loss: 1.3674 - accuracy: 0.2982 - val_loss: 1.3709 - val_accuracy: 0.4271\n",
      "Epoch 3/10\n",
      "9/9 [==============================] - 2s 177ms/step - loss: 1.2919 - accuracy: 0.4561 - val_loss: 1.3127 - val_accuracy: 0.4167\n",
      "Epoch 4/10\n",
      "9/9 [==============================] - 2s 194ms/step - loss: 1.1916 - accuracy: 0.5193 - val_loss: 1.2103 - val_accuracy: 0.4688\n",
      "Epoch 5/10\n",
      "9/9 [==============================] - 2s 200ms/step - loss: 1.0721 - accuracy: 0.5825 - val_loss: 1.1738 - val_accuracy: 0.4271\n",
      "Epoch 6/10\n",
      "9/9 [==============================] - 2s 221ms/step - loss: 0.8983 - accuracy: 0.6281 - val_loss: 1.1450 - val_accuracy: 0.4375\n",
      "Epoch 7/10\n",
      "9/9 [==============================] - 2s 190ms/step - loss: 0.7821 - accuracy: 0.6877 - val_loss: 0.9250 - val_accuracy: 0.5625\n",
      "Epoch 8/10\n",
      "9/9 [==============================] - 2s 188ms/step - loss: 0.6769 - accuracy: 0.7333 - val_loss: 1.0339 - val_accuracy: 0.4792\n",
      "Epoch 9/10\n",
      "9/9 [==============================] - 2s 196ms/step - loss: 0.4736 - accuracy: 0.8456 - val_loss: 0.9776 - val_accuracy: 0.5625\n",
      "Epoch 10/10\n",
      "9/9 [==============================] - 2s 194ms/step - loss: 0.4445 - accuracy: 0.8421 - val_loss: 0.9773 - val_accuracy: 0.5625\n"
     ]
    },
    {
     "data": {
      "text/plain": [
       "<keras.callbacks.History at 0x1ae3869c400>"
      ]
     },
     "execution_count": 8,
     "metadata": {},
     "output_type": "execute_result"
    }
   ],
   "source": [
    "data = np.array(data).reshape(-1, 128, 128, 1)\n",
    "labels_data = np.array([labels.index(label) for label in labels_data])\n",
    "labels_data = to_categorical(labels_data)\n",
    "\n",
    "X_train, X_test, y_train, y_test = train_test_split(data, labels_data, test_size=0.25)\n",
    "\n",
    "input_shape = X_train.shape[1:]\n",
    "cnn_model = build_cnn(input_shape)\n",
    "cnn_model.fit(X_train, y_train, epochs=10, validation_data=(X_test, y_test))"
   ]
  },
  {
   "cell_type": "code",
   "execution_count": 9,
   "metadata": {},
   "outputs": [],
   "source": [
    "cnn_model.save('model.h5')"
   ]
  }
 ],
 "metadata": {
  "kernelspec": {
   "display_name": "env",
   "language": "python",
   "name": "python3"
  },
  "language_info": {
   "codemirror_mode": {
    "name": "ipython",
    "version": 3
   },
   "file_extension": ".py",
   "mimetype": "text/x-python",
   "name": "python",
   "nbconvert_exporter": "python",
   "pygments_lexer": "ipython3",
   "version": "3.9.18"
  }
 },
 "nbformat": 4,
 "nbformat_minor": 2
}
